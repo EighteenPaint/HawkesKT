{
 "cells": [
  {
   "cell_type": "code",
   "execution_count": 20,
   "metadata": {},
   "outputs": [],
   "source": [
    "import os\n",
    "import json\n",
    "import pandas as pd\n",
    "import numpy as np\n",
    "import seaborn as sns\n",
    "import matplotlib.pyplot as plt"
   ]
  },
  {
   "cell_type": "code",
   "execution_count": 21,
   "metadata": {},
   "outputs": [],
   "source": [
    "dataset = 'ASSISTments_12-13'\n",
    "inter_df = pd.read_csv('{}/interactions.csv'.format(dataset), sep='\\t')\n",
    "with open('{}/skill_name.json'.format(dataset)) as fp:\n",
    "    skill2name = json.load(fp)"
   ]
  },
  {
   "cell_type": "markdown",
   "metadata": {},
   "source": [
    "### 1. Counstruct data with only top-10 frequency skills"
   ]
  },
  {
   "cell_type": "code",
   "execution_count": 22,
   "metadata": {},
   "outputs": [
    {
     "name": "stdout",
     "output_type": "stream",
     "text": [
      "Equation Solving Two or Fewer Steps\n",
      "Addition and Subtraction Integers\n",
      "Addition and Subtraction Fractions\n",
      "Conversion of Fraction Decimals Percents\n",
      "Multiplication and Division Integers\n",
      "Multiplication and Division Positive Decimals\n",
      "Order of Operations All\n",
      "Multiplication Fractions\n",
      "Division Fractions\n",
      "Equation Solving More Than Two Steps\n"
     ]
    }
   ],
   "source": [
    "top_skills = list(inter_df['skill_id'].value_counts()[:10].index)\n",
    "for s in top_skills:\n",
    "    print(skill2name[str(s)])"
   ]
  },
  {
   "cell_type": "code",
   "execution_count": 23,
   "metadata": {},
   "outputs": [
    {
     "data": {
      "text/html": [
       "<div>\n",
       "<style scoped>\n",
       "    .dataframe tbody tr th:only-of-type {\n",
       "        vertical-align: middle;\n",
       "    }\n",
       "\n",
       "    .dataframe tbody tr th {\n",
       "        vertical-align: top;\n",
       "    }\n",
       "\n",
       "    .dataframe thead th {\n",
       "        text-align: right;\n",
       "    }\n",
       "</style>\n",
       "<table border=\"1\" class=\"dataframe\">\n",
       "  <thead>\n",
       "    <tr style=\"text-align: right;\">\n",
       "      <th></th>\n",
       "      <th>teacher_id</th>\n",
       "      <th>first_action</th>\n",
       "      <th>problem_type</th>\n",
       "      <th>timestamp</th>\n",
       "      <th>problem_id</th>\n",
       "      <th>dwell_time</th>\n",
       "      <th>tutor_mode</th>\n",
       "      <th>original</th>\n",
       "      <th>user_id</th>\n",
       "      <th>school_id</th>\n",
       "      <th>skill_id</th>\n",
       "      <th>correct</th>\n",
       "    </tr>\n",
       "  </thead>\n",
       "  <tbody>\n",
       "    <tr>\n",
       "      <th>1</th>\n",
       "      <td>0</td>\n",
       "      <td>0</td>\n",
       "      <td>1</td>\n",
       "      <td>1.371614e+09</td>\n",
       "      <td>1</td>\n",
       "      <td>24.0</td>\n",
       "      <td>0</td>\n",
       "      <td>0</td>\n",
       "      <td>0</td>\n",
       "      <td>0</td>\n",
       "      <td>0</td>\n",
       "      <td>1.0</td>\n",
       "    </tr>\n",
       "    <tr>\n",
       "      <th>8</th>\n",
       "      <td>1</td>\n",
       "      <td>0</td>\n",
       "      <td>1</td>\n",
       "      <td>1.347427e+09</td>\n",
       "      <td>8</td>\n",
       "      <td>68.0</td>\n",
       "      <td>0</td>\n",
       "      <td>0</td>\n",
       "      <td>1</td>\n",
       "      <td>1</td>\n",
       "      <td>6</td>\n",
       "      <td>1.0</td>\n",
       "    </tr>\n",
       "    <tr>\n",
       "      <th>19</th>\n",
       "      <td>1</td>\n",
       "      <td>0</td>\n",
       "      <td>1</td>\n",
       "      <td>1.348406e+09</td>\n",
       "      <td>19</td>\n",
       "      <td>179.0</td>\n",
       "      <td>0</td>\n",
       "      <td>0</td>\n",
       "      <td>1</td>\n",
       "      <td>1</td>\n",
       "      <td>5</td>\n",
       "      <td>0.0</td>\n",
       "    </tr>\n",
       "    <tr>\n",
       "      <th>20</th>\n",
       "      <td>1</td>\n",
       "      <td>0</td>\n",
       "      <td>1</td>\n",
       "      <td>1.348406e+09</td>\n",
       "      <td>20</td>\n",
       "      <td>84.0</td>\n",
       "      <td>0</td>\n",
       "      <td>0</td>\n",
       "      <td>1</td>\n",
       "      <td>1</td>\n",
       "      <td>5</td>\n",
       "      <td>1.0</td>\n",
       "    </tr>\n",
       "    <tr>\n",
       "      <th>21</th>\n",
       "      <td>1</td>\n",
       "      <td>0</td>\n",
       "      <td>1</td>\n",
       "      <td>1.348406e+09</td>\n",
       "      <td>21</td>\n",
       "      <td>37.0</td>\n",
       "      <td>0</td>\n",
       "      <td>0</td>\n",
       "      <td>1</td>\n",
       "      <td>1</td>\n",
       "      <td>5</td>\n",
       "      <td>1.0</td>\n",
       "    </tr>\n",
       "  </tbody>\n",
       "</table>\n",
       "</div>"
      ],
      "text/plain": [
       "    teacher_id  first_action  problem_type     timestamp  problem_id  \\\n",
       "1            0             0             1  1.371614e+09           1   \n",
       "8            1             0             1  1.347427e+09           8   \n",
       "19           1             0             1  1.348406e+09          19   \n",
       "20           1             0             1  1.348406e+09          20   \n",
       "21           1             0             1  1.348406e+09          21   \n",
       "\n",
       "    dwell_time  tutor_mode  original  user_id  school_id  skill_id  correct  \n",
       "1         24.0           0         0        0          0         0      1.0  \n",
       "8         68.0           0         0        1          1         6      1.0  \n",
       "19       179.0           0         0        1          1         5      0.0  \n",
       "20        84.0           0         0        1          1         5      1.0  \n",
       "21        37.0           0         0        1          1         5      1.0  "
      ]
     },
     "execution_count": 23,
     "metadata": {},
     "output_type": "execute_result"
    }
   ],
   "source": [
    "top_inter_df = inter_df.copy()[inter_df['skill_id'].isin(top_skills)]\n",
    "new_skill_id = range(len(top_skills))\n",
    "skill_map = dict(zip(top_skills, new_skill_id))\n",
    "top_inter_df['skill_id'] = top_inter_df['skill_id'].apply(lambda x: skill_map[x])  # re-index to 0-9\n",
    "top_inter_df.head()"
   ]
  },
  {
   "cell_type": "code",
   "execution_count": 27,
   "metadata": {},
   "outputs": [],
   "source": [
    "# new_skill2name = dict()\n",
    "# for i, s in enumerate(top_skills):\n",
    "#     new_skill2name[i] = skill2name[str(s)]\n",
    "# top_inter_df.to_csv('{}_Core-10/interactions.csv'.format(dataset), sep='\\t')\n",
    "with open('{}_Core-10/skill_name.json'.format(dataset), 'w') as fp:\n",
    "    json.dump(new_skill2name, fp)"
   ]
  },
  {
   "cell_type": "code",
   "execution_count": 26,
   "metadata": {},
   "outputs": [
    {
     "data": {
      "text/plain": [
       "{0: 'Equation Solving Two or Fewer Steps',\n",
       " 1: 'Addition and Subtraction Integers',\n",
       " 2: 'Addition and Subtraction Fractions',\n",
       " 3: 'Conversion of Fraction Decimals Percents',\n",
       " 4: 'Multiplication and Division Integers',\n",
       " 5: 'Multiplication and Division Positive Decimals',\n",
       " 6: 'Order of Operations All',\n",
       " 7: 'Multiplication Fractions',\n",
       " 8: 'Division Fractions',\n",
       " 9: 'Equation Solving More Than Two Steps'}"
      ]
     },
     "execution_count": 26,
     "metadata": {},
     "output_type": "execute_result"
    }
   ],
   "source": [
    "new_skill2name"
   ]
  },
  {
   "cell_type": "markdown",
   "metadata": {},
   "source": [
    "### 2. Observe correct probability"
   ]
  },
  {
   "cell_type": "code",
   "execution_count": 10,
   "metadata": {},
   "outputs": [
    {
     "data": {
      "text/plain": [
       "array([0.71922484, 0.72176192, 0.6840936 , 0.75080673, 0.84809766,\n",
       "       0.73032205, 0.62357341, 0.68229845, 0.67369061, 0.58199735])"
      ]
     },
     "execution_count": 10,
     "metadata": {},
     "output_type": "execute_result"
    }
   ],
   "source": [
    "max_skill = top_inter_df['skill_id'].max() + 1\n",
    "correct_prob = np.zeros(max_skill)\n",
    "skill_total = np.zeros(max_skill)\n",
    "for skill, correct in zip(top_inter_df['skill_id'], top_inter_df['correct']):\n",
    "    skill_total[skill] += 1\n",
    "    if correct == 1:\n",
    "        correct_prob[skill] += 1\n",
    "correct_prob /= skill_total\n",
    "correct_prob"
   ]
  },
  {
   "cell_type": "markdown",
   "metadata": {},
   "source": [
    "### 3. Conditional Mutual Information (CMI) analyses"
   ]
  },
  {
   "cell_type": "code",
   "execution_count": 11,
   "metadata": {},
   "outputs": [],
   "source": [
    "# Count the number of appearance in user sequence for all the circumustances: \n",
    "# (pre-skill, post-skill, time-interval, pre-correctness, post-correctness)\n",
    "# SLOW!\n",
    "\n",
    "max_time_bin = 20\n",
    "cross_effects = np.zeros((max_skill, max_skill, max_time_bin, 2, 2))\n",
    "for user, user_df in top_inter_df.groupby('user_id'):\n",
    "    skills = user_df['skill_id'].values\n",
    "    corrects = user_df['correct'].values.astype(int)\n",
    "    times = user_df['timestamp'].values\n",
    "    for i in range(len(skills) - 1):\n",
    "        for j in range(i + 1, len(skills)):\n",
    "            time = np.maximum(times[j] - times[i], 1e-6)\n",
    "            time_bin = int(np.maximum(np.log2(time), 0))  # log transformation\n",
    "            time_bin = np.minimum(time_bin, max_time_bin - 1)  # truncate\n",
    "            cross_effects[skills[i]][skills[j]][time_bin][corrects[i]][corrects[j]] += 1"
   ]
  },
  {
   "cell_type": "code",
   "execution_count": 12,
   "metadata": {},
   "outputs": [
    {
     "data": {
      "image/png": "[encoded data removed]",
      "text/plain": [
       "<matplotlib.figure.Figure at 0x7fe54d1cd400>"
      ]
     },
     "metadata": {},
     "output_type": "display_data"
    }
   ],
   "source": [
    "# cross-effects\n",
    "\n",
    "mutual_info = np.zeros((max_skill, max_skill))\n",
    "total = cross_effects.sum(-1).sum(-1).sum(-1)\n",
    "for a_i in [0, 1]:\n",
    "    for a_j in [0, 1]:\n",
    "        joint = cross_effects[:, :, :, a_i, a_j].sum(-1) / total\n",
    "        x = cross_effects[:, :, :, a_i, :].sum(-1).sum(-1) / total\n",
    "        y = cross_effects[:, :, :, :, a_j].sum(-1).sum(-1) / total\n",
    "        mutual_info += joint * np.log(joint / (x + 1e-6) / (y + 1e-6) + 1e-6)\n",
    "\n",
    "plt.figure(figsize=(9, 6.75))\n",
    "sns.heatmap(mutual_info, cmap=\"YlGnBu\")\n",
    "plt.savefig('../plot/cross_effects.png', dpi=600)"
   ]
  },
  {
   "cell_type": "code",
   "execution_count": 13,
   "metadata": {},
   "outputs": [
    {
     "data": {
      "image/png": "[encoded data removed]",
      "text/plain": [
       "<matplotlib.figure.Figure at 0x7fe53fd21ba8>"
      ]
     },
     "metadata": {},
     "output_type": "display_data"
    }
   ],
   "source": [
    "# global temporal cross-effects\n",
    "\n",
    "mutual_info = np.zeros(max_time_bin)\n",
    "global_effect = cross_effects.sum(0).sum(0)\n",
    "total = global_effect.sum(-1).sum(-1)\n",
    "for a_i in [0, 1]:\n",
    "    for a_j in [0, 1]:\n",
    "        joint = global_effect[:, a_i, a_j] / total\n",
    "        x = global_effect[:, a_i, :].sum(-1) / total\n",
    "        y = global_effect[:, :, a_j].sum(-1) / total\n",
    "        mutual_info += joint * np.log(joint / (x + 1e-6) / (y + 1e-6) + 1e-6)\n",
    "        \n",
    "plt.figure(figsize=(10,1))\n",
    "sns.heatmap(np.expand_dims(mutual_info[2:12], 0), cmap=\"YlGnBu\", annot=True,\n",
    "            vmin=0, vmax=0.1, xticklabels=range(2, 12))\n",
    "plt.savefig('../plot/global_temporal.png', dpi=600)"
   ]
  },
  {
   "cell_type": "code",
   "execution_count": 14,
   "metadata": {},
   "outputs": [
    {
     "data": {
      "image/png": "[encoded data removed]",
      "text/plain": [
       "<matplotlib.figure.Figure at 0x7fe53fd09198>"
      ]
     },
     "metadata": {},
     "output_type": "display_data"
    }
   ],
   "source": [
    "# temporal cross-effects\n",
    "\n",
    "target_skill = 8\n",
    "mutual_info = np.zeros((max_skill, max_time_bin))\n",
    "total = cross_effects[target_skill, :, :, :, :].sum(-1).sum(-1)\n",
    "for a_i in [0, 1]:\n",
    "    for a_j in [0, 1]:\n",
    "        joint = cross_effects[target_skill, :, :, a_i, a_j]\n",
    "        x = cross_effects[target_skill, :, :, a_i, :].sum(-1)\n",
    "        y = cross_effects[target_skill, :, :, :, a_j].sum(-1)\n",
    "        mutual_info += joint * np.log(joint * total / (x + 1e-6) / (y + 1e-6) + 1e-6) / (total + 1e-6)\n",
    "\n",
    "plt.figure(figsize=(10, 3))\n",
    "selected_skills = np.array([2, 5, 7, 8])\n",
    "yticks = ['skill 8 → ' + str(x) for x in selected_skills]\n",
    "ax = sns.heatmap(mutual_info[selected_skills, 2:12], cmap=\"YlGnBu\", mask=(total[selected_skills, 2:12] < 50), \n",
    "                 annot=False, vmin=0, vmax=0.2, xticklabels=range(2, 12), yticklabels=yticks)\n",
    "plt.savefig('../plot/temporal_cross.png', dpi=600)\n",
    "plt.show()"
   ]
  },
  {
   "cell_type": "code",
   "execution_count": null,
   "metadata": {},
   "outputs": [],
   "source": []
  }
 ],
 "metadata": {
  "kernelspec": {
   "display_name": "Python (py35)",
   "language": "python",
   "name": "py35"
  },
  "language_info": {
   "codemirror_mode": {
    "name": "ipython",
    "version": 3
   },
   "file_extension": ".py",
   "mimetype": "text/x-python",
   "name": "python",
   "nbconvert_exporter": "python",
   "pygments_lexer": "ipython3",
   "version": "3.5.5"
  }
 },
 "nbformat": 4,
 "nbformat_minor": 4
}
